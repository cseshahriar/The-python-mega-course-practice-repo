{
 "cells": [
  {
   "cell_type": "code",
   "execution_count": 22,
   "metadata": {},
   "outputs": [],
   "source": [
    "import pandas as pd"
   ]
  },
  {
   "cell_type": "code",
   "execution_count": 27,
   "metadata": {},
   "outputs": [
    {
     "name": "stdout",
     "output_type": "stream",
     "text": [
      "     Series_reference   Period  Data_value  Suppressed STATUS    UNITS  \\\n",
      "0       BDCQ.SF1AA2CA  2016.06    1116.386         NaN      F  Dollars   \n",
      "1       BDCQ.SF1AA2CA  2016.09    1070.874         NaN      F  Dollars   \n",
      "2       BDCQ.SF1AA2CA  2016.12    1054.408         NaN      F  Dollars   \n",
      "3       BDCQ.SF1AA2CA  2017.03    1010.665         NaN      F  Dollars   \n",
      "4       BDCQ.SF1AA2CA  2017.06    1233.700         NaN      F  Dollars   \n",
      "...               ...      ...         ...         ...    ...      ...   \n",
      "1827    BDCQ.SF8RS2CA  2019.09     157.562         NaN      F  Dollars   \n",
      "1828    BDCQ.SF8RS2CA  2019.12     106.326         NaN      F  Dollars   \n",
      "1829    BDCQ.SF8RS2CA  2020.03     141.986         NaN      F  Dollars   \n",
      "1830    BDCQ.SF8RS2CA  2020.06      -5.260         NaN      F  Dollars   \n",
      "1831    BDCQ.SF8RS2CA  2020.09      73.572         NaN      F  Dollars   \n",
      "\n",
      "      Magnitude                         Subject  \\\n",
      "0             6  Business Data Collection - BDC   \n",
      "1             6  Business Data Collection - BDC   \n",
      "2             6  Business Data Collection - BDC   \n",
      "3             6  Business Data Collection - BDC   \n",
      "4             6  Business Data Collection - BDC   \n",
      "...         ...                             ...   \n",
      "1827          6  Business Data Collection - BDC   \n",
      "1828          6  Business Data Collection - BDC   \n",
      "1829          6  Business Data Collection - BDC   \n",
      "1830          6  Business Data Collection - BDC   \n",
      "1831          6  Business Data Collection - BDC   \n",
      "\n",
      "                               Group            Series_title_1  \\\n",
      "0     Industry by financial variable  Sales (operating income)   \n",
      "1     Industry by financial variable  Sales (operating income)   \n",
      "2     Industry by financial variable  Sales (operating income)   \n",
      "3     Industry by financial variable  Sales (operating income)   \n",
      "4     Industry by financial variable  Sales (operating income)   \n",
      "...                              ...                       ...   \n",
      "1827  Industry by financial variable          Operating profit   \n",
      "1828  Industry by financial variable          Operating profit   \n",
      "1829  Industry by financial variable          Operating profit   \n",
      "1830  Industry by financial variable          Operating profit   \n",
      "1831  Industry by financial variable          Operating profit   \n",
      "\n",
      "            Series_title_2  Series_title_3 Series_title_4  Series_title_5  \n",
      "0     Forestry and Logging  Current prices     Unadjusted             NaN  \n",
      "1     Forestry and Logging  Current prices     Unadjusted             NaN  \n",
      "2     Forestry and Logging  Current prices     Unadjusted             NaN  \n",
      "3     Forestry and Logging  Current prices     Unadjusted             NaN  \n",
      "4     Forestry and Logging  Current prices     Unadjusted             NaN  \n",
      "...                    ...             ...            ...             ...  \n",
      "1827        Other Services  Current prices     Unadjusted             NaN  \n",
      "1828        Other Services  Current prices     Unadjusted             NaN  \n",
      "1829        Other Services  Current prices     Unadjusted             NaN  \n",
      "1830        Other Services  Current prices     Unadjusted             NaN  \n",
      "1831        Other Services  Current prices     Unadjusted             NaN  \n",
      "\n",
      "[1832 rows x 14 columns]\n"
     ]
    }
   ],
   "source": [
    "df = pd.read_csv (\"C:\\\\Users\\\\USER\\\\Desktop\\\\csv.csv\")\n",
    "print (df)"
   ]
  },
  {
   "cell_type": "code",
   "execution_count": null,
   "metadata": {},
   "outputs": [],
   "source": []
  }
 ],
 "metadata": {
  "kernelspec": {
   "display_name": "Python 3",
   "language": "python",
   "name": "python3"
  },
  "language_info": {
   "codemirror_mode": {
    "name": "ipython",
    "version": 3
   },
   "file_extension": ".py",
   "mimetype": "text/x-python",
   "name": "python",
   "nbconvert_exporter": "python",
   "pygments_lexer": "ipython3",
   "version": "3.8.7"
  }
 },
 "nbformat": 4,
 "nbformat_minor": 4
}
